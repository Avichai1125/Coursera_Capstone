{
 "cells": [
  {
   "cell_type": "markdown",
   "metadata": {},
   "source": [
    "# This notebook will be used for the entire Week 3 assignment. Each part will be noted."
   ]
  },
  {
   "cell_type": "markdown",
   "metadata": {},
   "source": [
    "## <b> Week 3 Assignment - Part 1 </b>"
   ]
  },
  {
   "cell_type": "code",
   "execution_count": 78,
   "metadata": {},
   "outputs": [],
   "source": [
    "#Importing pandas and numpy libraries\n",
    "import pandas as pd\n",
    "import numpy as np"
   ]
  },
  {
   "cell_type": "code",
   "execution_count": 80,
   "metadata": {},
   "outputs": [],
   "source": [
    "#Importing request command from urllib for scraping the Wikipedia link\n",
    "import urllib.request "
   ]
  },
  {
   "cell_type": "code",
   "execution_count": 81,
   "metadata": {},
   "outputs": [],
   "source": [
    "url = 'https://en.wikipedia.org/wiki/List_of_postal_codes_of_Canada:_M'"
   ]
  },
  {
   "cell_type": "code",
   "execution_count": 82,
   "metadata": {},
   "outputs": [],
   "source": [
    "from urllib.request import urlopen"
   ]
  },
  {
   "cell_type": "code",
   "execution_count": 83,
   "metadata": {},
   "outputs": [
    {
     "name": "stdout",
     "output_type": "stream",
     "text": [
      "Collecting package metadata (current_repodata.json): done\n",
      "Solving environment: done\n",
      "\n",
      "## Package Plan ##\n",
      "\n",
      "  environment location: /home/jupyterlab/conda/envs/python\n",
      "\n",
      "  added / updated specs:\n",
      "    - beautifulsoup4\n",
      "\n",
      "\n",
      "The following packages will be UPDATED:\n",
      "\n",
      "  openssl            conda-forge::openssl-1.1.1f-h516909a_0 --> anaconda::openssl-1.1.1-h7b6447c_0\n",
      "\n",
      "The following packages will be SUPERSEDED by a higher-priority channel:\n",
      "\n",
      "  ca-certificates    conda-forge::ca-certificates-2020.4.5~ --> anaconda::ca-certificates-2020.1.1-0\n",
      "  certifi            conda-forge::certifi-2020.4.5.1-py36h~ --> anaconda::certifi-2020.4.5.1-py36_0\n",
      "\n",
      "\n",
      "Preparing transaction: done\n",
      "Verifying transaction: done\n",
      "Executing transaction: done\n",
      "\n",
      "Note: you may need to restart the kernel to use updated packages.\n"
     ]
    }
   ],
   "source": [
    "#Importing BeautifulSoup library\n",
    "conda install -c anaconda beautifulsoup4"
   ]
  },
  {
   "cell_type": "code",
   "execution_count": 84,
   "metadata": {},
   "outputs": [],
   "source": [
    "from bs4 import BeautifulSoup"
   ]
  },
  {
   "cell_type": "code",
   "execution_count": 85,
   "metadata": {},
   "outputs": [],
   "source": [
    "#Setting an indicator for the Wikipedia link\n",
    "link = urlopen(url)"
   ]
  },
  {
   "cell_type": "code",
   "execution_count": 86,
   "metadata": {},
   "outputs": [],
   "source": [
    "#Convert the link's content according to the BeautifulSoup interface\n",
    "soup = BeautifulSoup(link, \"html\")"
   ]
  },
  {
   "cell_type": "code",
   "execution_count": 87,
   "metadata": {},
   "outputs": [],
   "source": [
    "#Getting the table from the link\n",
    "postTable = soup.table"
   ]
  },
  {
   "cell_type": "code",
   "execution_count": 88,
   "metadata": {},
   "outputs": [
    {
     "data": {
      "text/html": [
       "<div>\n",
       "<style scoped>\n",
       "    .dataframe tbody tr th:only-of-type {\n",
       "        vertical-align: middle;\n",
       "    }\n",
       "\n",
       "    .dataframe tbody tr th {\n",
       "        vertical-align: top;\n",
       "    }\n",
       "\n",
       "    .dataframe thead th {\n",
       "        text-align: right;\n",
       "    }\n",
       "</style>\n",
       "<table border=\"1\" class=\"dataframe\">\n",
       "  <thead>\n",
       "    <tr style=\"text-align: right;\">\n",
       "      <th></th>\n",
       "      <th>PostalCode</th>\n",
       "      <th>Borough</th>\n",
       "      <th>Neighborhood</th>\n",
       "    </tr>\n",
       "  </thead>\n",
       "  <tbody>\n",
       "    <tr>\n",
       "      <th>0</th>\n",
       "      <td>M3A</td>\n",
       "      <td>North York</td>\n",
       "      <td>Parkwoods</td>\n",
       "    </tr>\n",
       "    <tr>\n",
       "      <th>1</th>\n",
       "      <td>M4A</td>\n",
       "      <td>North York</td>\n",
       "      <td>Victoria Village</td>\n",
       "    </tr>\n",
       "    <tr>\n",
       "      <th>2</th>\n",
       "      <td>M5A</td>\n",
       "      <td>Downtown Toronto</td>\n",
       "      <td>Regent Park, Harbourfront</td>\n",
       "    </tr>\n",
       "    <tr>\n",
       "      <th>3</th>\n",
       "      <td>M6A</td>\n",
       "      <td>North York</td>\n",
       "      <td>Lawrence Manor, Lawrence Heights</td>\n",
       "    </tr>\n",
       "    <tr>\n",
       "      <th>4</th>\n",
       "      <td>M7A</td>\n",
       "      <td>Downtown Toronto</td>\n",
       "      <td>Queen's Park, Ontario Provincial Government</td>\n",
       "    </tr>\n",
       "    <tr>\n",
       "      <th>...</th>\n",
       "      <td>...</td>\n",
       "      <td>...</td>\n",
       "      <td>...</td>\n",
       "    </tr>\n",
       "    <tr>\n",
       "      <th>98</th>\n",
       "      <td>M8X</td>\n",
       "      <td>Etobicoke</td>\n",
       "      <td>The Kingsway, Montgomery Road , Old Mill North</td>\n",
       "    </tr>\n",
       "    <tr>\n",
       "      <th>99</th>\n",
       "      <td>M4Y</td>\n",
       "      <td>Downtown Toronto</td>\n",
       "      <td>Church and Wellesley</td>\n",
       "    </tr>\n",
       "    <tr>\n",
       "      <th>100</th>\n",
       "      <td>M7Y</td>\n",
       "      <td>East Toronto</td>\n",
       "      <td>Business reply mail Processing CentrE</td>\n",
       "    </tr>\n",
       "    <tr>\n",
       "      <th>101</th>\n",
       "      <td>M8Y</td>\n",
       "      <td>Etobicoke</td>\n",
       "      <td>Old Mill South, King's Mill Park, Sunnylea, Hu...</td>\n",
       "    </tr>\n",
       "    <tr>\n",
       "      <th>102</th>\n",
       "      <td>M8Z</td>\n",
       "      <td>Etobicoke</td>\n",
       "      <td>Mimico NW, The Queensway West, South of Bloor,...</td>\n",
       "    </tr>\n",
       "  </tbody>\n",
       "</table>\n",
       "<p>103 rows × 3 columns</p>\n",
       "</div>"
      ],
      "text/plain": [
       "    PostalCode           Borough  \\\n",
       "0          M3A        North York   \n",
       "1          M4A        North York   \n",
       "2          M5A  Downtown Toronto   \n",
       "3          M6A        North York   \n",
       "4          M7A  Downtown Toronto   \n",
       "..         ...               ...   \n",
       "98         M8X         Etobicoke   \n",
       "99         M4Y  Downtown Toronto   \n",
       "100        M7Y      East Toronto   \n",
       "101        M8Y         Etobicoke   \n",
       "102        M8Z         Etobicoke   \n",
       "\n",
       "                                          Neighborhood  \n",
       "0                                            Parkwoods  \n",
       "1                                     Victoria Village  \n",
       "2                            Regent Park, Harbourfront  \n",
       "3                     Lawrence Manor, Lawrence Heights  \n",
       "4          Queen's Park, Ontario Provincial Government  \n",
       "..                                                 ...  \n",
       "98      The Kingsway, Montgomery Road , Old Mill North  \n",
       "99                                Church and Wellesley  \n",
       "100              Business reply mail Processing CentrE  \n",
       "101  Old Mill South, King's Mill Park, Sunnylea, Hu...  \n",
       "102  Mimico NW, The Queensway West, South of Bloor,...  \n",
       "\n",
       "[103 rows x 3 columns]"
      ]
     },
     "execution_count": 88,
     "metadata": {},
     "output_type": "execute_result"
    }
   ],
   "source": [
    "#A list for storing the postal codes information\n",
    "cells = []\n",
    "#Flag for skipping the first empty row of the table\n",
    "flag = 0\n",
    "for row in postTable.findAll('tr'):\n",
    "    #Going over code lines who represents each of the cells of the current row in the loop and converting them into a string format\n",
    "    cell = list(map(str,row.findAll('td')))\n",
    "    #Cleaning the data from the code parts and replacing the slashes into commas at the 3rd cell\n",
    "    ctext = [c.replace('<td>','').replace('\\n</td>','').replace('\\n</pre>','').replace('\\n<pre>','').replace('amp;','').replace(' /',',') for c in cell]\n",
    "    if flag == 1:\n",
    "        #Filtering the not assigned postal codes\n",
    "        if ctext[1]!='Not assigned': \n",
    "            cells.append(ctext)\n",
    "    else:\n",
    "        flag = 1\n",
    "\n",
    "#Creating the database\n",
    "torfd = pd.DataFrame(cells,columns = ['PostalCode','Borough','Neighborhood'])\n",
    "torfd"
   ]
  },
  {
   "cell_type": "code",
   "execution_count": 89,
   "metadata": {},
   "outputs": [
    {
     "data": {
      "text/plain": [
       "(103, 3)"
      ]
     },
     "execution_count": 89,
     "metadata": {},
     "output_type": "execute_result"
    }
   ],
   "source": [
    "torfd.shape #shape of the dataframe"
   ]
  },
  {
   "cell_type": "markdown",
   "metadata": {},
   "source": [
    "## <b> Week 3 Assignment - Part 2 </b>"
   ]
  },
  {
   "cell_type": "code",
   "execution_count": 90,
   "metadata": {},
   "outputs": [],
   "source": [
    "#Getting the csv data for the neighborhoods' lat-lon coordinates and converting it into a dataframe\n",
    "lltor = pd.read_csv('http://cocl.us/Geospatial_data')"
   ]
  },
  {
   "cell_type": "code",
   "execution_count": 91,
   "metadata": {},
   "outputs": [
    {
     "data": {
      "text/html": [
       "<div>\n",
       "<style scoped>\n",
       "    .dataframe tbody tr th:only-of-type {\n",
       "        vertical-align: middle;\n",
       "    }\n",
       "\n",
       "    .dataframe tbody tr th {\n",
       "        vertical-align: top;\n",
       "    }\n",
       "\n",
       "    .dataframe thead th {\n",
       "        text-align: right;\n",
       "    }\n",
       "</style>\n",
       "<table border=\"1\" class=\"dataframe\">\n",
       "  <thead>\n",
       "    <tr style=\"text-align: right;\">\n",
       "      <th>Postal Code</th>\n",
       "      <th>M1B</th>\n",
       "      <th>M1C</th>\n",
       "      <th>M1E</th>\n",
       "      <th>M1G</th>\n",
       "      <th>M1H</th>\n",
       "      <th>M1J</th>\n",
       "      <th>M1K</th>\n",
       "      <th>M1L</th>\n",
       "      <th>M1M</th>\n",
       "      <th>M1N</th>\n",
       "      <th>...</th>\n",
       "      <th>M9A</th>\n",
       "      <th>M9B</th>\n",
       "      <th>M9C</th>\n",
       "      <th>M9L</th>\n",
       "      <th>M9M</th>\n",
       "      <th>M9N</th>\n",
       "      <th>M9P</th>\n",
       "      <th>M9R</th>\n",
       "      <th>M9V</th>\n",
       "      <th>M9W</th>\n",
       "    </tr>\n",
       "  </thead>\n",
       "  <tbody>\n",
       "    <tr>\n",
       "      <th>Latitude</th>\n",
       "      <td>43.806686</td>\n",
       "      <td>43.784535</td>\n",
       "      <td>43.763573</td>\n",
       "      <td>43.770992</td>\n",
       "      <td>43.773136</td>\n",
       "      <td>43.744734</td>\n",
       "      <td>43.727929</td>\n",
       "      <td>43.711112</td>\n",
       "      <td>43.716316</td>\n",
       "      <td>43.692657</td>\n",
       "      <td>...</td>\n",
       "      <td>43.667856</td>\n",
       "      <td>43.650943</td>\n",
       "      <td>43.643515</td>\n",
       "      <td>43.756303</td>\n",
       "      <td>43.724766</td>\n",
       "      <td>43.706876</td>\n",
       "      <td>43.696319</td>\n",
       "      <td>43.688905</td>\n",
       "      <td>43.739416</td>\n",
       "      <td>43.706748</td>\n",
       "    </tr>\n",
       "    <tr>\n",
       "      <th>Longitude</th>\n",
       "      <td>-79.194353</td>\n",
       "      <td>-79.160497</td>\n",
       "      <td>-79.188711</td>\n",
       "      <td>-79.216917</td>\n",
       "      <td>-79.239476</td>\n",
       "      <td>-79.239476</td>\n",
       "      <td>-79.262029</td>\n",
       "      <td>-79.284577</td>\n",
       "      <td>-79.239476</td>\n",
       "      <td>-79.264848</td>\n",
       "      <td>...</td>\n",
       "      <td>-79.532242</td>\n",
       "      <td>-79.554724</td>\n",
       "      <td>-79.577201</td>\n",
       "      <td>-79.565963</td>\n",
       "      <td>-79.532242</td>\n",
       "      <td>-79.518188</td>\n",
       "      <td>-79.532242</td>\n",
       "      <td>-79.554724</td>\n",
       "      <td>-79.588437</td>\n",
       "      <td>-79.594054</td>\n",
       "    </tr>\n",
       "  </tbody>\n",
       "</table>\n",
       "<p>2 rows × 103 columns</p>\n",
       "</div>"
      ],
      "text/plain": [
       "Postal Code        M1B        M1C        M1E        M1G        M1H        M1J  \\\n",
       "Latitude     43.806686  43.784535  43.763573  43.770992  43.773136  43.744734   \n",
       "Longitude   -79.194353 -79.160497 -79.188711 -79.216917 -79.239476 -79.239476   \n",
       "\n",
       "Postal Code        M1K        M1L        M1M        M1N  ...        M9A  \\\n",
       "Latitude     43.727929  43.711112  43.716316  43.692657  ...  43.667856   \n",
       "Longitude   -79.262029 -79.284577 -79.239476 -79.264848  ... -79.532242   \n",
       "\n",
       "Postal Code        M9B        M9C        M9L        M9M        M9N        M9P  \\\n",
       "Latitude     43.650943  43.643515  43.756303  43.724766  43.706876  43.696319   \n",
       "Longitude   -79.554724 -79.577201 -79.565963 -79.532242 -79.518188 -79.532242   \n",
       "\n",
       "Postal Code        M9R        M9V        M9W  \n",
       "Latitude     43.688905  43.739416  43.706748  \n",
       "Longitude   -79.554724 -79.588437 -79.594054  \n",
       "\n",
       "[2 rows x 103 columns]"
      ]
     },
     "execution_count": 91,
     "metadata": {},
     "output_type": "execute_result"
    }
   ],
   "source": [
    "#Modifying the dataframe by setting the Postal Code as index for the columns and the lat-lon as indices for the rows.\n",
    "l2 = lltor.set_index('Postal Code').transpose()\n",
    "l2.head()"
   ]
  },
  {
   "cell_type": "code",
   "execution_count": 92,
   "metadata": {},
   "outputs": [],
   "source": [
    "#Arranging the lat-lon data according to the order of the postal codes in torfd dataframe\n",
    "latforTorfd = []\n",
    "lonforTorfd = []\n",
    "for pct in torfd['PostalCode']:\n",
    "    latforTorfd.append(l2[pct]['Latitude'])\n",
    "    lonforTorfd.append(l2[pct]['Longitude'])\n"
   ]
  },
  {
   "cell_type": "code",
   "execution_count": 93,
   "metadata": {},
   "outputs": [],
   "source": [
    "#Adding new columns of lat and lon to torfd\n",
    "torfd['Latitude'] = latforTorfd\n",
    "torfd['Longitude'] = lonforTorfd"
   ]
  },
  {
   "cell_type": "code",
   "execution_count": 94,
   "metadata": {},
   "outputs": [
    {
     "data": {
      "text/html": [
       "<div>\n",
       "<style scoped>\n",
       "    .dataframe tbody tr th:only-of-type {\n",
       "        vertical-align: middle;\n",
       "    }\n",
       "\n",
       "    .dataframe tbody tr th {\n",
       "        vertical-align: top;\n",
       "    }\n",
       "\n",
       "    .dataframe thead th {\n",
       "        text-align: right;\n",
       "    }\n",
       "</style>\n",
       "<table border=\"1\" class=\"dataframe\">\n",
       "  <thead>\n",
       "    <tr style=\"text-align: right;\">\n",
       "      <th></th>\n",
       "      <th>PostalCode</th>\n",
       "      <th>Borough</th>\n",
       "      <th>Neighborhood</th>\n",
       "      <th>Latitude</th>\n",
       "      <th>Longitude</th>\n",
       "    </tr>\n",
       "  </thead>\n",
       "  <tbody>\n",
       "    <tr>\n",
       "      <th>0</th>\n",
       "      <td>M3A</td>\n",
       "      <td>North York</td>\n",
       "      <td>Parkwoods</td>\n",
       "      <td>43.753259</td>\n",
       "      <td>-79.329656</td>\n",
       "    </tr>\n",
       "    <tr>\n",
       "      <th>1</th>\n",
       "      <td>M4A</td>\n",
       "      <td>North York</td>\n",
       "      <td>Victoria Village</td>\n",
       "      <td>43.725882</td>\n",
       "      <td>-79.315572</td>\n",
       "    </tr>\n",
       "    <tr>\n",
       "      <th>2</th>\n",
       "      <td>M5A</td>\n",
       "      <td>Downtown Toronto</td>\n",
       "      <td>Regent Park, Harbourfront</td>\n",
       "      <td>43.654260</td>\n",
       "      <td>-79.360636</td>\n",
       "    </tr>\n",
       "    <tr>\n",
       "      <th>3</th>\n",
       "      <td>M6A</td>\n",
       "      <td>North York</td>\n",
       "      <td>Lawrence Manor, Lawrence Heights</td>\n",
       "      <td>43.718518</td>\n",
       "      <td>-79.464763</td>\n",
       "    </tr>\n",
       "    <tr>\n",
       "      <th>4</th>\n",
       "      <td>M7A</td>\n",
       "      <td>Downtown Toronto</td>\n",
       "      <td>Queen's Park, Ontario Provincial Government</td>\n",
       "      <td>43.662301</td>\n",
       "      <td>-79.389494</td>\n",
       "    </tr>\n",
       "    <tr>\n",
       "      <th>...</th>\n",
       "      <td>...</td>\n",
       "      <td>...</td>\n",
       "      <td>...</td>\n",
       "      <td>...</td>\n",
       "      <td>...</td>\n",
       "    </tr>\n",
       "    <tr>\n",
       "      <th>98</th>\n",
       "      <td>M8X</td>\n",
       "      <td>Etobicoke</td>\n",
       "      <td>The Kingsway, Montgomery Road , Old Mill North</td>\n",
       "      <td>43.653654</td>\n",
       "      <td>-79.506944</td>\n",
       "    </tr>\n",
       "    <tr>\n",
       "      <th>99</th>\n",
       "      <td>M4Y</td>\n",
       "      <td>Downtown Toronto</td>\n",
       "      <td>Church and Wellesley</td>\n",
       "      <td>43.665860</td>\n",
       "      <td>-79.383160</td>\n",
       "    </tr>\n",
       "    <tr>\n",
       "      <th>100</th>\n",
       "      <td>M7Y</td>\n",
       "      <td>East Toronto</td>\n",
       "      <td>Business reply mail Processing CentrE</td>\n",
       "      <td>43.662744</td>\n",
       "      <td>-79.321558</td>\n",
       "    </tr>\n",
       "    <tr>\n",
       "      <th>101</th>\n",
       "      <td>M8Y</td>\n",
       "      <td>Etobicoke</td>\n",
       "      <td>Old Mill South, King's Mill Park, Sunnylea, Hu...</td>\n",
       "      <td>43.636258</td>\n",
       "      <td>-79.498509</td>\n",
       "    </tr>\n",
       "    <tr>\n",
       "      <th>102</th>\n",
       "      <td>M8Z</td>\n",
       "      <td>Etobicoke</td>\n",
       "      <td>Mimico NW, The Queensway West, South of Bloor,...</td>\n",
       "      <td>43.628841</td>\n",
       "      <td>-79.520999</td>\n",
       "    </tr>\n",
       "  </tbody>\n",
       "</table>\n",
       "<p>103 rows × 5 columns</p>\n",
       "</div>"
      ],
      "text/plain": [
       "    PostalCode           Borough  \\\n",
       "0          M3A        North York   \n",
       "1          M4A        North York   \n",
       "2          M5A  Downtown Toronto   \n",
       "3          M6A        North York   \n",
       "4          M7A  Downtown Toronto   \n",
       "..         ...               ...   \n",
       "98         M8X         Etobicoke   \n",
       "99         M4Y  Downtown Toronto   \n",
       "100        M7Y      East Toronto   \n",
       "101        M8Y         Etobicoke   \n",
       "102        M8Z         Etobicoke   \n",
       "\n",
       "                                          Neighborhood   Latitude  Longitude  \n",
       "0                                            Parkwoods  43.753259 -79.329656  \n",
       "1                                     Victoria Village  43.725882 -79.315572  \n",
       "2                            Regent Park, Harbourfront  43.654260 -79.360636  \n",
       "3                     Lawrence Manor, Lawrence Heights  43.718518 -79.464763  \n",
       "4          Queen's Park, Ontario Provincial Government  43.662301 -79.389494  \n",
       "..                                                 ...        ...        ...  \n",
       "98      The Kingsway, Montgomery Road , Old Mill North  43.653654 -79.506944  \n",
       "99                                Church and Wellesley  43.665860 -79.383160  \n",
       "100              Business reply mail Processing CentrE  43.662744 -79.321558  \n",
       "101  Old Mill South, King's Mill Park, Sunnylea, Hu...  43.636258 -79.498509  \n",
       "102  Mimico NW, The Queensway West, South of Bloor,...  43.628841 -79.520999  \n",
       "\n",
       "[103 rows x 5 columns]"
      ]
     },
     "execution_count": 94,
     "metadata": {},
     "output_type": "execute_result"
    }
   ],
   "source": [
    "torfd"
   ]
  },
  {
   "cell_type": "markdown",
   "metadata": {},
   "source": [
    "## <b> Week 3 Assignment - Part 3 </b>"
   ]
  },
  {
   "cell_type": "code",
   "execution_count": 95,
   "metadata": {},
   "outputs": [
    {
     "data": {
      "text/plain": [
       "10"
      ]
     },
     "execution_count": 95,
     "metadata": {},
     "output_type": "execute_result"
    }
   ],
   "source": [
    "torfd['Borough'].unique().shape[0] #Setting the num of clusters as the num of Toronto's boroughs"
   ]
  },
  {
   "cell_type": "code",
   "execution_count": 56,
   "metadata": {},
   "outputs": [],
   "source": [
    "from sklearn.cluster import KMeans #Importing the kmeans model from scikit-learn library\n",
    "import folium #Importing Folium"
   ]
  },
  {
   "cell_type": "code",
   "execution_count": 59,
   "metadata": {},
   "outputs": [],
   "source": [
    "#Converting the lat-lon data into an array for the KMeans model\n",
    "lldata = torfd[['Latitude','Longitude']]\n",
    "lldata = np.asarray(lldata)"
   ]
  },
  {
   "cell_type": "code",
   "execution_count": 61,
   "metadata": {},
   "outputs": [
    {
     "name": "stdout",
     "output_type": "stream",
     "text": [
      "[8 4 3 0 3 1 9 8 4 3 0 1 9 4 4 3 0 1 9 4 3 0 9 4 3 3 5 8 0 4 3 6 5 8 7 4 3\n",
      " 3 5 8 0 4 3 3 5 8 7 4 3 7 7 5 8 7 4 0 6 7 5 8 7 0 0 6 7 5 8 0 0 6 7 5 0 0\n",
      " 3 6 1 1 2 0 3 6 2 3 3 2 3 3 6 7 2 3 3 1 1 9 3 3 6 3 4 6 6]\n"
     ]
    }
   ],
   "source": [
    "#Performing the KMeans model and retreiving the labels\n",
    "num_clusters = 10 \n",
    "\n",
    "kmModel = KMeans(init=\"k-means++\", n_clusters=num_clusters, n_init=12)\n",
    "kmModel.fit(lldata)\n",
    "labels = kmModel.labels_\n",
    "print(labels)"
   ]
  },
  {
   "cell_type": "code",
   "execution_count": 62,
   "metadata": {},
   "outputs": [],
   "source": [
    "torfd['Labels'] = labels #Adding the labels of the clusters as a new column for torfd"
   ]
  },
  {
   "cell_type": "code",
   "execution_count": 63,
   "metadata": {},
   "outputs": [
    {
     "data": {
      "text/html": [
       "<div>\n",
       "<style scoped>\n",
       "    .dataframe tbody tr th:only-of-type {\n",
       "        vertical-align: middle;\n",
       "    }\n",
       "\n",
       "    .dataframe tbody tr th {\n",
       "        vertical-align: top;\n",
       "    }\n",
       "\n",
       "    .dataframe thead th {\n",
       "        text-align: right;\n",
       "    }\n",
       "</style>\n",
       "<table border=\"1\" class=\"dataframe\">\n",
       "  <thead>\n",
       "    <tr style=\"text-align: right;\">\n",
       "      <th></th>\n",
       "      <th>PostalCode</th>\n",
       "      <th>Borough</th>\n",
       "      <th>Neighborhood</th>\n",
       "      <th>Latitude</th>\n",
       "      <th>Longitude</th>\n",
       "      <th>Labels</th>\n",
       "    </tr>\n",
       "  </thead>\n",
       "  <tbody>\n",
       "    <tr>\n",
       "      <th>0</th>\n",
       "      <td>M3A</td>\n",
       "      <td>North York</td>\n",
       "      <td>Parkwoods</td>\n",
       "      <td>43.753259</td>\n",
       "      <td>-79.329656</td>\n",
       "      <td>8</td>\n",
       "    </tr>\n",
       "    <tr>\n",
       "      <th>1</th>\n",
       "      <td>M4A</td>\n",
       "      <td>North York</td>\n",
       "      <td>Victoria Village</td>\n",
       "      <td>43.725882</td>\n",
       "      <td>-79.315572</td>\n",
       "      <td>4</td>\n",
       "    </tr>\n",
       "    <tr>\n",
       "      <th>2</th>\n",
       "      <td>M5A</td>\n",
       "      <td>Downtown Toronto</td>\n",
       "      <td>Regent Park, Harbourfront</td>\n",
       "      <td>43.654260</td>\n",
       "      <td>-79.360636</td>\n",
       "      <td>3</td>\n",
       "    </tr>\n",
       "    <tr>\n",
       "      <th>3</th>\n",
       "      <td>M6A</td>\n",
       "      <td>North York</td>\n",
       "      <td>Lawrence Manor, Lawrence Heights</td>\n",
       "      <td>43.718518</td>\n",
       "      <td>-79.464763</td>\n",
       "      <td>0</td>\n",
       "    </tr>\n",
       "    <tr>\n",
       "      <th>4</th>\n",
       "      <td>M7A</td>\n",
       "      <td>Downtown Toronto</td>\n",
       "      <td>Queen's Park, Ontario Provincial Government</td>\n",
       "      <td>43.662301</td>\n",
       "      <td>-79.389494</td>\n",
       "      <td>3</td>\n",
       "    </tr>\n",
       "    <tr>\n",
       "      <th>...</th>\n",
       "      <td>...</td>\n",
       "      <td>...</td>\n",
       "      <td>...</td>\n",
       "      <td>...</td>\n",
       "      <td>...</td>\n",
       "      <td>...</td>\n",
       "    </tr>\n",
       "    <tr>\n",
       "      <th>98</th>\n",
       "      <td>M8X</td>\n",
       "      <td>Etobicoke</td>\n",
       "      <td>The Kingsway, Montgomery Road , Old Mill North</td>\n",
       "      <td>43.653654</td>\n",
       "      <td>-79.506944</td>\n",
       "      <td>6</td>\n",
       "    </tr>\n",
       "    <tr>\n",
       "      <th>99</th>\n",
       "      <td>M4Y</td>\n",
       "      <td>Downtown Toronto</td>\n",
       "      <td>Church and Wellesley</td>\n",
       "      <td>43.665860</td>\n",
       "      <td>-79.383160</td>\n",
       "      <td>3</td>\n",
       "    </tr>\n",
       "    <tr>\n",
       "      <th>100</th>\n",
       "      <td>M7Y</td>\n",
       "      <td>East Toronto</td>\n",
       "      <td>Business reply mail Processing CentrE</td>\n",
       "      <td>43.662744</td>\n",
       "      <td>-79.321558</td>\n",
       "      <td>4</td>\n",
       "    </tr>\n",
       "    <tr>\n",
       "      <th>101</th>\n",
       "      <td>M8Y</td>\n",
       "      <td>Etobicoke</td>\n",
       "      <td>Old Mill South, King's Mill Park, Sunnylea, Hu...</td>\n",
       "      <td>43.636258</td>\n",
       "      <td>-79.498509</td>\n",
       "      <td>6</td>\n",
       "    </tr>\n",
       "    <tr>\n",
       "      <th>102</th>\n",
       "      <td>M8Z</td>\n",
       "      <td>Etobicoke</td>\n",
       "      <td>Mimico NW, The Queensway West, South of Bloor,...</td>\n",
       "      <td>43.628841</td>\n",
       "      <td>-79.520999</td>\n",
       "      <td>6</td>\n",
       "    </tr>\n",
       "  </tbody>\n",
       "</table>\n",
       "<p>103 rows × 6 columns</p>\n",
       "</div>"
      ],
      "text/plain": [
       "    PostalCode           Borough  \\\n",
       "0          M3A        North York   \n",
       "1          M4A        North York   \n",
       "2          M5A  Downtown Toronto   \n",
       "3          M6A        North York   \n",
       "4          M7A  Downtown Toronto   \n",
       "..         ...               ...   \n",
       "98         M8X         Etobicoke   \n",
       "99         M4Y  Downtown Toronto   \n",
       "100        M7Y      East Toronto   \n",
       "101        M8Y         Etobicoke   \n",
       "102        M8Z         Etobicoke   \n",
       "\n",
       "                                          Neighborhood   Latitude  Longitude  \\\n",
       "0                                            Parkwoods  43.753259 -79.329656   \n",
       "1                                     Victoria Village  43.725882 -79.315572   \n",
       "2                            Regent Park, Harbourfront  43.654260 -79.360636   \n",
       "3                     Lawrence Manor, Lawrence Heights  43.718518 -79.464763   \n",
       "4          Queen's Park, Ontario Provincial Government  43.662301 -79.389494   \n",
       "..                                                 ...        ...        ...   \n",
       "98      The Kingsway, Montgomery Road , Old Mill North  43.653654 -79.506944   \n",
       "99                                Church and Wellesley  43.665860 -79.383160   \n",
       "100              Business reply mail Processing CentrE  43.662744 -79.321558   \n",
       "101  Old Mill South, King's Mill Park, Sunnylea, Hu...  43.636258 -79.498509   \n",
       "102  Mimico NW, The Queensway West, South of Bloor,...  43.628841 -79.520999   \n",
       "\n",
       "     Labels  \n",
       "0         8  \n",
       "1         4  \n",
       "2         3  \n",
       "3         0  \n",
       "4         3  \n",
       "..      ...  \n",
       "98        6  \n",
       "99        3  \n",
       "100       4  \n",
       "101       6  \n",
       "102       6  \n",
       "\n",
       "[103 rows x 6 columns]"
      ]
     },
     "execution_count": 63,
     "metadata": {},
     "output_type": "execute_result"
    }
   ],
   "source": [
    "torfd"
   ]
  },
  {
   "cell_type": "code",
   "execution_count": 67,
   "metadata": {},
   "outputs": [
    {
     "name": "stdout",
     "output_type": "stream",
     "text": [
      "Collecting package metadata (current_repodata.json): done\n",
      "Solving environment: done\n",
      "\n",
      "# All requested packages already installed.\n",
      "\n",
      "The geograpical coordinate of Toronto are 43.6534817, -79.3839347.\n"
     ]
    }
   ],
   "source": [
    "#Installing Geocoder for retreiving the lat=l\n",
    "!conda install -c conda-forge geopy --yes\n",
    "from geopy.geocoders import Nominatim\n",
    "\n",
    "address = 'Toronto'\n",
    "\n",
    "geolocator = Nominatim(user_agent=\"tr_explorer\")\n",
    "location = geolocator.geocode(address)\n",
    "torlat = location.latitude\n",
    "torlon = location.longitude\n",
    "print('The geograpical coordinate of Toronto are {}, {}.'.format(torlat, torlon))"
   ]
  },
  {
   "cell_type": "code",
   "execution_count": 77,
   "metadata": {},
   "outputs": [
    {
     "data": {
      "text/html": [
       "<div style=\"width:100%;\"><div style=\"position:relative;width:100%;height:0;padding-bottom:60%;\"><iframe src=\"about:blank\" style=\"position:absolute;width:100%;height:100%;left:0;top:0;border:none !important;\" data-html=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 onload=\"this.contentDocument.open();this.contentDocument.write(atob(this.getAttribute('data-html')));this.contentDocument.close();\" allowfullscreen webkitallowfullscreen mozallowfullscreen></iframe></div></div>"
      ],
      "text/plain": [
       "<folium.folium.Map at 0x7f599b55b358>"
      ]
     },
     "execution_count": 77,
     "metadata": {},
     "output_type": "execute_result"
    }
   ],
   "source": [
    "# create map\n",
    "import matplotlib.cm as cm\n",
    "import matplotlib.colors as colors\n",
    "\n",
    "map_clusters = folium.Map(location=[torlat, torlon], zoom_start=10)\n",
    "\n",
    "# set color scheme for the clusters\n",
    "colors_array = cm.rainbow(np.linspace(0, 1, num_clusters))\n",
    "rainbow = [colors.rgb2hex(i) for i in colors_array]\n",
    "\n",
    "# add markers to the map\n",
    "for lat, lon, posCod, neigh, cluster in zip(torfd['Latitude'], torfd['Longitude'], torfd['PostalCode'], torfd['Neighborhood'], torfd['Labels']):\n",
    "    label = folium.Popup(str(posCod) +': '+str(neigh)+ '. Cluster ' + str(cluster+1), parse_html=True)\n",
    "    folium.CircleMarker(\n",
    "        [lat, lon],\n",
    "        radius=5,\n",
    "        popup=label,\n",
    "        color=rainbow[cluster],\n",
    "        fill=True,\n",
    "        fill_color=rainbow[cluster],\n",
    "        fill_opacity=0.7).add_to(map_clusters)\n",
    "       \n",
    "map_clusters"
   ]
  },
  {
   "cell_type": "code",
   "execution_count": null,
   "metadata": {},
   "outputs": [],
   "source": []
  }
 ],
 "metadata": {
  "kernelspec": {
   "display_name": "Python",
   "language": "python",
   "name": "conda-env-python-py"
  },
  "language_info": {
   "codemirror_mode": {
    "name": "ipython",
    "version": 3
   },
   "file_extension": ".py",
   "mimetype": "text/x-python",
   "name": "python",
   "nbconvert_exporter": "python",
   "pygments_lexer": "ipython3",
   "version": "3.6.10"
  }
 },
 "nbformat": 4,
 "nbformat_minor": 4
}
